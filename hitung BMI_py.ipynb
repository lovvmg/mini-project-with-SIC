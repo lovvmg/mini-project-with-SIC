{
  "nbformat": 4,
  "nbformat_minor": 0,
  "metadata": {
    "colab": {
      "provenance": [],
      "authorship_tag": "ABX9TyPQzDLx9/CBU+TwBrsjkETw",
      "include_colab_link": true
    },
    "kernelspec": {
      "name": "python3",
      "display_name": "Python 3"
    },
    "language_info": {
      "name": "python"
    }
  },
  "cells": [
    {
      "cell_type": "markdown",
      "metadata": {
        "id": "view-in-github",
        "colab_type": "text"
      },
      "source": [
        "<a href=\"https://colab.research.google.com/github/lovvmg/mini-project-with-SIC/blob/main/hitung%20BMI_py.ipynb\" target=\"_parent\"><img src=\"https://colab.research.google.com/assets/colab-badge.svg\" alt=\"Open In Colab\"/></a>"
      ]
    },
    {
      "cell_type": "markdown",
      "source": [
        "Conditional Statement"
      ],
      "metadata": {
        "id": "nsa2fR_m1LZQ"
      }
    },
    {
      "cell_type": "code",
      "execution_count": null,
      "metadata": {
        "id": "sEP3xeYtExg1",
        "colab": {
          "base_uri": "https://localhost:8080/"
        },
        "outputId": "f921c6f4-d5a0-4d7a-86af-b82086a55c5a"
      },
      "outputs": [
        {
          "output_type": "stream",
          "name": "stdout",
          "text": [
            "masukkan massa tubuh anda: 50\n",
            "massa tubuh anda adalah 50.0 kg\n",
            "masukkan tinggi badan anda: 160\n",
            "tinggi badan anda adalah 160.0 kg\n",
            " berat badan anda kurang\n"
          ]
        }
      ],
      "source": [
        "massa = float(input(\"masukkan massa tubuh anda: \"))\n",
        "teks_1 = print(f\"massa tubuh anda adalah {massa} kg\")\n",
        "\n",
        "tinggi = float(input(f\"masukkan tinggi badan anda: \"))\n",
        "teks_2 = print(f\"tinggi badan anda adalah {tinggi} kg\")\n",
        "\n",
        "#konversi tinggi ke m\n",
        "tinggi2 = tinggi/100\n",
        "\n",
        "BMI_anda = float(massa / (tinggi*tinggi))\n",
        "\n",
        "if BMI_anda >= 18.5 and BMI_anda <= 24.9 :\n",
        "  print(\"berat badan anda Ideal\")\n",
        "elif BMI_anda > 24.9 :\n",
        "  print (\"anda overweight\")\n",
        "else :\n",
        "  print(\" berat badan anda kurang\")\n"
      ]
    },
    {
      "cell_type": "markdown",
      "source": [
        "Nested + comparison + operator"
      ],
      "metadata": {
        "id": "IEiGnLXiApuT"
      }
    },
    {
      "cell_type": "code",
      "source": [
        "tinggi = float(input(\"Masukkan tinggi badan anda: \"))\n",
        "teks_1 = print(f\"tinggi tubuh anda adalah {tinggi} cm\")\n",
        "massa = float(input(\"Masukkan massa badan anda: \"))\n",
        "teks_2 = print(f\"massa tubuh anda adalah {massa} kg\")\n",
        "\n",
        "#konversi tinggi ke m\n",
        "tinggi2 = tinggi/100\n",
        "\n",
        "#Menghitung BMI\n",
        "BMI = float(massa/(tinggi2*tinggi2))\n",
        "\n",
        "\n",
        "if BMI <= 18.49:\n",
        "    print(f\"BMI anda adalah {BMI}\")\n",
        "    jawaban = input(\"Anda kekurangan berat badan! Anda perlu meningkatkan asupan. /nApakah anda butuh rekomendasi dari kami?(y/n)\").lower()\n",
        "    if jawaban == \"y\":\n",
        "            print(\"Perbanyak konsumsi makanan bergizi seimbang seperti sayur, buah, protein tanpa lemak, dan air putih untuk mendukung energi dan kesehatan tubuh secara optimal.\")\n",
        "    elif jawaban == \"n\":\n",
        "            print(\"Baiklah. Tetap semangat!!\")\n",
        "    else:\n",
        "            print(\" input tidak valid\")\n",
        "\n",
        "else:\n",
        "    if BMI >= 18.5 and BMI <= 24.9:\n",
        "            print(f\"BMI anda adalah {BMI}\")\n",
        "            print(\"Tubuh anda ideal. Tetap pertahankan!!!\")\n",
        "\n",
        "    elif BMI >= 25 and BMI <= 29.9:\n",
        "            print(f\"BMI anda adalah {BMI}\")\n",
        "            jawaban = input(\"Gawatt! Anda kelebihan berat banda. mau kami bantu kasih tips menurunkan berat badan?(y/n)\").lower()\n",
        "            if jawaban == \"y\":\n",
        "               print(\"Kurangi asupan kalori, perbanyak aktivitas fisik, dan pilih makanan bernutrisi tinggi seperti sayur, buah, dan protein tanpa lemak untuk menurunkan berat badan secara sehat dan berkelanjutan.\")\n",
        "            elif jawaban == \"n\":\n",
        "               print(\"Tetap semangat!!!\")\n",
        "            else:\n",
        "               print(\"anda memasukkan input yang salah\")\n",
        "\n",
        "    else:\n",
        "       print('Gawatt!! BMI anda tidak normal..Segera periksakan ke dokter!')\n",
        "\n",
        "\n",
        "\n"
      ],
      "metadata": {
        "id": "N7-3ZQsQ0lmH",
        "colab": {
          "base_uri": "https://localhost:8080/"
        },
        "outputId": "165bf30d-9b84-4e10-e294-b3a0312dfd52"
      },
      "execution_count": null,
      "outputs": [
        {
          "output_type": "stream",
          "name": "stdout",
          "text": [
            "Masukkan tinggi badan anda: 50\n",
            "tinggi tubuh anda adalah 50.0 cm\n",
            "Masukkan massa badan anda: 160\n",
            "massa tubuh anda adalah 160.0 kg\n",
            "Gawatt!! BMI anda tidak normal..Segera periksakan ke dokter!\n"
          ]
        }
      ]
    }
  ]
}