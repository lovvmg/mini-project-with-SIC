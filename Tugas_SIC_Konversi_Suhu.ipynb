{
  "nbformat": 4,
  "nbformat_minor": 0,
  "metadata": {
    "colab": {
      "provenance": [],
      "authorship_tag": "ABX9TyPZIPwOGdBjQnm4NYTCY0rf",
      "include_colab_link": true
    },
    "kernelspec": {
      "name": "python3",
      "display_name": "Python 3"
    },
    "language_info": {
      "name": "python"
    }
  },
  "cells": [
    {
      "cell_type": "markdown",
      "metadata": {
        "id": "view-in-github",
        "colab_type": "text"
      },
      "source": [
        "<a href=\"https://colab.research.google.com/github/lovvmg/mini-project-with-SIC/blob/main/Tugas_SIC_Konversi_Suhu.ipynb\" target=\"_parent\"><img src=\"https://colab.research.google.com/assets/colab-badge.svg\" alt=\"Open In Colab\"/></a>"
      ]
    },
    {
      "cell_type": "markdown",
      "source": [
        "konversi suhu"
      ],
      "metadata": {
        "id": "Zf-gMILkQoLK"
      }
    },
    {
      "cell_type": "code",
      "source": [
        "import konversiSuhu as y\n",
        "\n",
        "\n",
        "suhu = float(input(\"Masukkan nilai suhu: \"))\n",
        "suhu1 = input(\"Dari satuan (C/F/K): \").upper()\n",
        "\n",
        "suhu2 = input(\"Ke satuan (C/F/K): \").upper()\n",
        "\n",
        "if suhu1 == \"C\" and suhu2 == \"F\":\n",
        "  y.konversiCF(suhu)\n",
        "\n",
        "elif suhu1 == \"C\" and suhu2 == \"K\":\n",
        "  y.konversiCK(suhu)\n",
        "\n",
        "elif suhu1 == \"F\" and suhu2 == \"C\":\n",
        "  y.konversiFC(suhu)\n",
        "\n",
        "elif suhu1 == \"F\" and suhu2 == \"K\":\n",
        "  y.konversiFK(suhu)\n",
        "\n",
        "elif suhu1 == \"K\" and suhu2 == \"C\":\n",
        "  if suhu >= 0:\n",
        "    y.konversiKC(suhu)\n",
        "  else:\n",
        "    print(\"INPUT TIDAK VALID! SUHU KELVIN TIDAK NEGATIF\")\n",
        "\n",
        "elif suhu1 == \"K\" and suhu2 == \"F\":\n",
        "  if suhu >= 0:\n",
        "    y.konversiKF(suhu)\n",
        "  else:\n",
        "    print(\"INPUT TIDAK VALID! SUHU KELVIN TIDAK NEGATIF\")\n",
        "\n",
        "\n",
        "else:\n",
        "  print(\"Anda memasukkan input yang tidak valid\")\n"
      ],
      "metadata": {
        "colab": {
          "base_uri": "https://localhost:8080/"
        },
        "id": "aT-p0deaMpUs",
        "outputId": "d8b19259-514c-40c0-ece7-0a06809c9aeb"
      },
      "execution_count": 23,
      "outputs": [
        {
          "output_type": "stream",
          "name": "stdout",
          "text": [
            "Masukkan nilai suhu: 42.5\n",
            "Dari satuan (C/F/K): k\n",
            "Ke satuan (C/F/K): c\n",
            "hasil : 42.5 K = -230.64999999999998°C\n"
          ]
        }
      ]
    }
  ]
}