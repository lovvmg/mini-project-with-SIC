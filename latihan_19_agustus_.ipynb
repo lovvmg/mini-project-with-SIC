{
  "nbformat": 4,
  "nbformat_minor": 0,
  "metadata": {
    "colab": {
      "provenance": [],
      "authorship_tag": "ABX9TyO72uhN9H0kYFIq2icj3GTb",
      "include_colab_link": true
    },
    "kernelspec": {
      "name": "python3",
      "display_name": "Python 3"
    },
    "language_info": {
      "name": "python"
    }
  },
  "cells": [
    {
      "cell_type": "markdown",
      "metadata": {
        "id": "view-in-github",
        "colab_type": "text"
      },
      "source": [
        "<a href=\"https://colab.research.google.com/github/lovvmg/mini-project-with-SIC/blob/main/latihan_19_agustus_.ipynb\" target=\"_parent\"><img src=\"https://colab.research.google.com/assets/colab-badge.svg\" alt=\"Open In Colab\"/></a>"
      ]
    },
    {
      "cell_type": "code",
      "execution_count": null,
      "metadata": {
        "colab": {
          "base_uri": "https://localhost:8080/"
        },
        "id": "rczQ9XOxqv93",
        "outputId": "681f86d7-17e7-4570-864c-c52976320bf0"
      },
      "outputs": [
        {
          "output_type": "stream",
          "name": "stdout",
          "text": [
            "masukkan angka :5\n",
            "5 adalah bilangan ganjil\n",
            "faktorial dari 5 adalah 120\n"
          ]
        }
      ],
      "source": [
        "nilai_math = [45,60,69,80,90,98,78,98,47,65,80,74]\n",
        "average = sum(nilai_math)/len(nilai_math)\n",
        "high = max(nilai_math)\n",
        "low = min(nilai_math)\n",
        "\n",
        "jumlah_lulus = 0\n",
        "\n",
        "for i in nilai_math:\n",
        "  if i > 75:\n",
        "    jumlah_lulus +=1\n",
        "\n",
        "# print(f\"nilai rata-rata : {average} \\nnilai tertinggi : {high} \\nnilai terendah : {low} \\njumlah murid yang lulus : {jumlah_lulus}\")\n",
        "\n",
        "\n",
        "#kalimat = input(\"masukkan kalimat:\")\n",
        "jumlah_huruf = len(kalimat.replace(\" \",\"\"))\n",
        "jumlah_vokal = -4\n",
        "jumlah_konsonan = -4\n",
        "\n",
        "for i in kalimat:\n",
        "  if i in \"aiueo\":\n",
        "    jumlah_vokal += 1\n",
        "\n",
        "  else:\n",
        "    jumlah_konsonan += 1\n",
        "\n",
        "#print(f\"{kalimat} \\njumlah huruf : {jumlah_huruf} \\njumlah huruf vokal: {jumlah_vokal} \\njumlah konsonan: {jumlah_konsonan}\")\n",
        "\n",
        "import math\n",
        "\n",
        "nilai = int(input(\"masukkan angka :\"))\n",
        "c = math.factorial(nilai)\n",
        "\n",
        "if nilai % 2 == 0 :\n",
        "  print(f\"{nilai} adalah bilangan genap\")\n",
        "\n",
        "else:\n",
        "  print(f\"{nilai} adalah bilangan ganjil\")\n",
        "\n",
        "print(f\"faktorial dari {nilai} adalah {c}\")\n",
        "\n"
      ]
    }
  ]
}